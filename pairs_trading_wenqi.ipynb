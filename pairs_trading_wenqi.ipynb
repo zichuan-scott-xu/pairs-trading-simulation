{
  "cells": [
    {
      "cell_type": "code",
      "execution_count": 3,
      "metadata": {
        "id": "1MRkENmOyvsm"
      },
      "outputs": [],
      "source": [
        "import math\n",
        "import yfinance as yf\n",
        "import numpy as np\n",
        "import pandas as pd\n",
        "import torch\n",
        "import torch.nn as nn\n",
        "import torch.optim as optim\n",
        "from torch.utils.data import DataLoader, Dataset, TensorDataset\n",
        "import tqdm\n",
        "import statsmodels.api as sm\n",
        "from datetime import datetime\n",
        "import matplotlib.pyplot as plt\n",
        "from sklearn.linear_model import LinearRegression\n",
        "from sklearn.preprocessing import MinMaxScaler\n",
        "from sklearn.metrics import mean_squared_error\n",
        "from sklearn.decomposition import PCA\n",
        "import matplotlib.gridspec as gridspec\n",
        "from sklearn.cluster import OPTICS\n",
        "%matplotlib inline"
      ]
    },
    {
      "cell_type": "code",
      "source": [
        "# Hand pick some stocks\n",
        "\n",
        "tech = ['AAPL', 'AMZN', 'GOOGL', 'INTC', 'NVDA', 'NFLX', 'MSFT', 'META', 'ORCL', 'UBER']\n",
        "food_drink = ['MCD', 'SBUX', 'PEP', 'KO', 'NSRGF', 'KHC', 'BUD', 'HSY', 'GIS']\n",
        "biotech = ['PFE', 'MRK', 'AMGN', 'JNJ', 'GILD', 'BMY', 'AZN', 'LLY', 'ABBV']\n",
        "energy = ['XOM', 'CVX', 'BP', 'TTE', 'SHEL', 'COP', 'SLB', 'PSX', 'HAL', 'E']\n",
        "\n",
        "list_of_stocks = tech + food_drink + biotech + energy\n"
      ],
      "metadata": {
        "id": "l1aiNowz1May"
      },
      "execution_count": 4,
      "outputs": []
    },
    {
      "cell_type": "code",
      "source": [
        "def index_to_label(idx):\n",
        "  return"
      ],
      "metadata": {
        "id": "P-I5yjw8OtZN"
      },
      "execution_count": 4,
      "outputs": []
    },
    {
      "cell_type": "code",
      "source": [
        "sd = datetime(2020, 5, 6) \n",
        "ed = datetime(2023, 5, 5)\n",
        "stocks = {}\n",
        "stocks_array = np.zeros((len(list_of_stocks), 755))\n",
        "\n",
        "for i in range(len(list_of_stocks)):\n",
        "  label = list_of_stocks[i]\n",
        "  stocks[label] = yf.download(tickers=label, start=sd, end=ed, interval=\"1d\")\n",
        "  stocks_array[i] = stocks[label]['Adj Close'].to_numpy().flatten()"
      ],
      "metadata": {
        "colab": {
          "base_uri": "https://localhost:8080/"
        },
        "id": "9dqXFcua5hFS",
        "outputId": "9bc548dd-f714-4846-8e9e-55efeba08b2d"
      },
      "execution_count": 5,
      "outputs": [
        {
          "output_type": "stream",
          "name": "stdout",
          "text": [
            "[*********************100%***********************]  1 of 1 completed\n",
            "[*********************100%***********************]  1 of 1 completed\n",
            "[*********************100%***********************]  1 of 1 completed\n",
            "[*********************100%***********************]  1 of 1 completed\n",
            "[*********************100%***********************]  1 of 1 completed\n",
            "[*********************100%***********************]  1 of 1 completed\n",
            "[*********************100%***********************]  1 of 1 completed\n",
            "[*********************100%***********************]  1 of 1 completed\n",
            "[*********************100%***********************]  1 of 1 completed\n",
            "[*********************100%***********************]  1 of 1 completed\n",
            "[*********************100%***********************]  1 of 1 completed\n",
            "[*********************100%***********************]  1 of 1 completed\n",
            "[*********************100%***********************]  1 of 1 completed\n",
            "[*********************100%***********************]  1 of 1 completed\n",
            "[*********************100%***********************]  1 of 1 completed\n",
            "[*********************100%***********************]  1 of 1 completed\n",
            "[*********************100%***********************]  1 of 1 completed\n",
            "[*********************100%***********************]  1 of 1 completed\n",
            "[*********************100%***********************]  1 of 1 completed\n",
            "[*********************100%***********************]  1 of 1 completed\n",
            "[*********************100%***********************]  1 of 1 completed\n",
            "[*********************100%***********************]  1 of 1 completed\n",
            "[*********************100%***********************]  1 of 1 completed\n",
            "[*********************100%***********************]  1 of 1 completed\n",
            "[*********************100%***********************]  1 of 1 completed\n",
            "[*********************100%***********************]  1 of 1 completed\n",
            "[*********************100%***********************]  1 of 1 completed\n",
            "[*********************100%***********************]  1 of 1 completed\n",
            "[*********************100%***********************]  1 of 1 completed\n",
            "[*********************100%***********************]  1 of 1 completed\n",
            "[*********************100%***********************]  1 of 1 completed\n",
            "[*********************100%***********************]  1 of 1 completed\n",
            "[*********************100%***********************]  1 of 1 completed\n",
            "[*********************100%***********************]  1 of 1 completed\n",
            "[*********************100%***********************]  1 of 1 completed\n",
            "[*********************100%***********************]  1 of 1 completed\n",
            "[*********************100%***********************]  1 of 1 completed\n",
            "[*********************100%***********************]  1 of 1 completed\n"
          ]
        }
      ]
    },
    {
      "cell_type": "code",
      "source": [
        "print(stocks['AAPL'])\n",
        "print(stocks['AMZN'].to_numpy().shape)"
      ],
      "metadata": {
        "colab": {
          "base_uri": "https://localhost:8080/"
        },
        "id": "k3vmIC2gEIRR",
        "outputId": "d3ad1c73-9a1e-4863-8964-0b427b72d58d"
      },
      "execution_count": 138,
      "outputs": [
        {
          "output_type": "stream",
          "name": "stdout",
          "text": [
            "                  Open        High         Low       Close   Adj Close  \\\n",
            "Date                                                                     \n",
            "2020-05-06   75.114998   75.809998   74.717499   75.157501   73.692329   \n",
            "2020-05-07   75.805000   76.292503   75.492500   75.934998   74.454681   \n",
            "2020-05-08   76.410004   77.587502   76.072502   77.532501   76.226830   \n",
            "2020-05-11   77.025002   79.262497   76.809998   78.752502   77.426292   \n",
            "2020-05-12   79.457497   79.922501   77.727501   77.852501   76.541451   \n",
            "...                ...         ...         ...         ...         ...   \n",
            "2023-04-28  168.490005  169.850006  167.880005  169.679993  169.679993   \n",
            "2023-05-01  169.279999  170.449997  168.639999  169.589996  169.589996   \n",
            "2023-05-02  170.089996  170.350006  167.539993  168.539993  168.539993   \n",
            "2023-05-03  169.500000  170.919998  167.160004  167.449997  167.449997   \n",
            "2023-05-04  164.889999  167.039993  164.309998  165.789993  165.789993   \n",
            "\n",
            "               Volume  \n",
            "Date                   \n",
            "2020-05-06  142333600  \n",
            "2020-05-07  115215200  \n",
            "2020-05-08  133838400  \n",
            "2020-05-11  145946400  \n",
            "2020-05-12  162301200  \n",
            "...               ...  \n",
            "2023-04-28   55209200  \n",
            "2023-05-01   52472900  \n",
            "2023-05-02   48425700  \n",
            "2023-05-03   65136000  \n",
            "2023-05-04   81235400  \n",
            "\n",
            "[755 rows x 6 columns]\n",
            "(755, 6)\n"
          ]
        }
      ]
    },
    {
      "cell_type": "code",
      "source": [
        "normalized_stocks_array = np.zeros(stocks_array.shape)\n",
        "for i in range(len(list_of_stocks)):\n",
        "  normalized_stocks_array[i, 0] = 0\n",
        "  for j in range(1, 755):\n",
        "    normalized_stocks_array[i, j] = (stocks_array[i, j] - stocks_array[i, j-1]) / stocks_array[i, j-1]"
      ],
      "metadata": {
        "id": "WQAxRLxKNZSM"
      },
      "execution_count": 6,
      "outputs": []
    },
    {
      "cell_type": "code",
      "source": [
        "pca = PCA(n_components=15)\n",
        "reduced_stock_array = pca.fit_transform(normalized_stocks_array)"
      ],
      "metadata": {
        "id": "Zij-PXYlGhs3"
      },
      "execution_count": 7,
      "outputs": []
    },
    {
      "cell_type": "code",
      "source": [
        "print(reduced_stock_array.shape)"
      ],
      "metadata": {
        "colab": {
          "base_uri": "https://localhost:8080/"
        },
        "id": "Nac6GITBH_Ab",
        "outputId": "dec85bcc-36a4-4b08-e055-466c5f831897"
      },
      "execution_count": 8,
      "outputs": [
        {
          "output_type": "stream",
          "name": "stdout",
          "text": [
            "(38, 15)\n"
          ]
        }
      ]
    },
    {
      "cell_type": "code",
      "source": [
        "optics_clustering = OPTICS(min_samples=3).fit(reduced_stock_array)\n",
        "print(optics_clustering.labels_)"
      ],
      "metadata": {
        "colab": {
          "base_uri": "https://localhost:8080/"
        },
        "id": "nS9rrrVNIL_q",
        "outputId": "6f486c72-53a7-40b8-8cf8-b61e88f37a01"
      },
      "execution_count": 40,
      "outputs": [
        {
          "output_type": "stream",
          "name": "stdout",
          "text": [
            "[ 0  0  0 -1 -1 -1  0 -1 -1 -1  1 -1  1  1 -1 -1 -1  1  1 -1  2  2  2  2\n",
            "  2 -1 -1  2  4  4  3  3  3  4 -1  4 -1  3]\n"
          ]
        }
      ]
    },
    {
      "cell_type": "code",
      "source": [],
      "metadata": {
        "id": "-zcgT2IXKxNQ"
      },
      "execution_count": 62,
      "outputs": []
    },
    {
      "cell_type": "code",
      "source": [
        "plt.figure(figsize=(7, 7))\n",
        "G = gridspec.GridSpec(1, 1)\n",
        "ax2 = plt.subplot(G[0, 0])\n",
        "clusters = []\n",
        "\n",
        "colors = [\"g.\", \"r.\", \"b.\", \"y.\", \"c.\"]\n",
        "for klass, color in zip(range(0, 5), colors):\n",
        "    Xk = reduced_stock_array[optics_clustering.labels_ == klass]\n",
        "    ax2.plot(Xk[:, 0], Xk[:, 1], color, alpha=0.4)\n",
        "    indices = [i for i, x in enumerate(optics_clustering.labels_) if x == klass]\n",
        "    cur_list = [list_of_stocks[i] for i in indices]\n",
        "    clusters.append(cur_list)\n",
        "    print(f'Cluster {klass} contains {cur_list}')\n",
        "ax2.plot(reduced_stock_array[optics_clustering.labels_ == -1, 0], reduced_stock_array[optics_clustering.labels_ == -1, 1], \"k+\", alpha=0.1)\n",
        "ax2.set_title(\"Automatic Clustering\\nOPTICS\")"
      ],
      "metadata": {
        "colab": {
          "base_uri": "https://localhost:8080/",
          "height": 752
        },
        "id": "cxkwraBqI1cR",
        "outputId": "6c3d185a-41b3-4b3e-e240-4849deae5263"
      },
      "execution_count": 41,
      "outputs": [
        {
          "output_type": "stream",
          "name": "stdout",
          "text": [
            "Cluster 0 contains ['AAPL', 'AMZN', 'GOOGL', 'MSFT']\n",
            "Cluster 1 contains ['MCD', 'PEP', 'KO', 'HSY', 'GIS']\n",
            "Cluster 2 contains ['MRK', 'AMGN', 'JNJ', 'GILD', 'BMY', 'ABBV']\n",
            "Cluster 3 contains ['BP', 'TTE', 'SHEL', 'E']\n",
            "Cluster 4 contains ['XOM', 'CVX', 'COP', 'PSX']\n"
          ]
        },
        {
          "output_type": "execute_result",
          "data": {
            "text/plain": [
              "Text(0.5, 1.0, 'Automatic Clustering\\nOPTICS')"
            ]
          },
          "metadata": {},
          "execution_count": 41
        },
        {
          "output_type": "display_data",
          "data": {
            "text/plain": [
              "<Figure size 700x700 with 1 Axes>"
            ],
            "image/png": "[encoded data removed]"
          },
          "metadata": {}
        }
      ]
    },
    {
      "cell_type": "code",
      "source": [
        "def get_common_dates(stock1, stock2):\n",
        "    return list(set(stock1.index.tolist()).intersection(set(stock2.index.tolist())))"
      ],
      "metadata": {
        "id": "52L-j9jonUX9"
      },
      "execution_count": 13,
      "outputs": []
    },
    {
      "cell_type": "code",
      "source": [
        "def get_hurst_exponent(time_series, max_lag=20):\n",
        "    \"\"\"Returns the Hurst Exponent of the time series\"\"\"\n",
        "    \n",
        "    lags = range(2, max_lag)\n",
        "\n",
        "    # variances of the lagged differences\n",
        "    tau = [np.std(np.subtract(time_series[lag:], time_series[:-lag])) for lag in lags]\n",
        "\n",
        "    # calculate the slope of the log plot -> the Hurst Exponent\n",
        "    reg = np.polyfit(np.log(lags), np.log(tau), 1)\n",
        "\n",
        "    return reg[0]"
      ],
      "metadata": {
        "id": "5QK7e40unX4e"
      },
      "execution_count": 14,
      "outputs": []
    },
    {
      "cell_type": "code",
      "source": [
        "def reg(stock1_common, stock2_common):\n",
        "    price1, price2 = np.array(stock1_common['Adj Close']), np.array(stock2_common['Adj Close'])\n",
        "    logprice1, logprice2 = np.log(price1), np.log(price2)\n",
        "    lin_reg = LinearRegression(fit_intercept=True)\n",
        "    lin_reg.fit(logprice1.reshape(-1, 1), logprice2)\n",
        "    beta, alpha = lin_reg.coef_[0], lin_reg.intercept_\n",
        "    spread = logprice2 - beta * logprice1 - alpha\n",
        "    \n",
        "    return spread"
      ],
      "metadata": {
        "id": "UIKSECXOnrei"
      },
      "execution_count": 32,
      "outputs": []
    },
    {
      "cell_type": "code",
      "source": [
        "def ADFTest(spread):\n",
        "    adf = sm.tsa.stattools.adfuller(spread, maxlag=1)\n",
        "    print('ADF test statistic: %.02f' % adf[0])\n",
        "    for key, value in adf[4].items():\n",
        "        print('\\t%s: %.3f' % (key, value))\n",
        "    print('p-value: %.03f' % adf[1])\n",
        "    return adf[1]"
      ],
      "metadata": {
        "id": "-9hQ8-9roA6h"
      },
      "execution_count": 16,
      "outputs": []
    },
    {
      "cell_type": "code",
      "source": [
        "def testPair(stock1_name, stock2_name, sd, ed):\n",
        "    ENDC = '\\033[0m'\n",
        "    stock1 = yf.download(tickers=stock1_name, start=sd, end=ed, interval=\"1d\")\n",
        "    stock2 = yf.download(tickers=stock2_name, start=sd, end=ed, interval=\"1d\")  \n",
        "    common_dates = sorted(get_common_dates(stock1, stock2))\n",
        "    stock1_common, stock2_common = stock1.loc[common_dates], stock2.loc[common_dates]\n",
        "    spread = reg(stock1_common, stock2_common)\n",
        "    ADF_p_value = ADFTest(spread)\n",
        "    # plt.plot(common_dates, spread)\n",
        "    if ADF_p_value > 0.05:\n",
        "        print(\"\\033[91mNot a Pair!\" + ENDC)\n",
        "        return False\n",
        "    hurst_exponent = get_hurst_exponent(spread)\n",
        "    print(hurst_exponent)\n",
        "    if hurst_exponent < 0.5:\n",
        "       print(\"\\033[92m\" + stock1_name + \" and \" + stock2_name + \" are indeed a pair!\" + ENDC)\n",
        "       return True\n",
        "    return False\n",
        "\n"
      ],
      "metadata": {
        "id": "loxkqOIFncIv"
      },
      "execution_count": 49,
      "outputs": []
    },
    {
      "cell_type": "code",
      "source": [
        "testPair('GOOGL', 'MSFT', sd, ed)"
      ],
      "metadata": {
        "colab": {
          "base_uri": "https://localhost:8080/",
          "height": 577
        },
        "id": "-TaaZwIBpTB6",
        "outputId": "f2486359-f2a3-4341-a243-c2b61e042a20"
      },
      "execution_count": 43,
      "outputs": [
        {
          "output_type": "stream",
          "name": "stdout",
          "text": [
            "[*********************100%***********************]  1 of 1 completed\n",
            "[*********************100%***********************]  1 of 1 completed\n",
            "ADF test statistic: -1.80\n",
            "\t1%: -3.439\n",
            "\t5%: -2.865\n",
            "\t10%: -2.569\n",
            "p-value: 0.383\n",
            "\u001b[91mNot a Pair!\n"
          ]
        },
        {
          "output_type": "display_data",
          "data": {
            "text/plain": [
              "<Figure size 640x480 with 1 Axes>"
            ],
            "image/png": "[encoded data removed]"
          },
          "metadata": {}
        }
      ]
    },
    {
      "cell_type": "code",
      "source": [
        "counter = 0\n",
        "pair_counter = 0\n",
        "for cluster in clusters:\n",
        "  for i in range(len(cluster)):\n",
        "    for j in range(len(cluster)):\n",
        "      if i < j:\n",
        "        counter += 1\n",
        "        if testPair(cluster[i], cluster[j], sd, ed):\n",
        "          pair_counter += 1\n",
        "print(f'{counter} potential pairs are tested, {pair_counter} actual pairs are found')\n",
        "          \n",
        "\n"
      ],
      "metadata": {
        "colab": {
          "base_uri": "https://localhost:8080/"
        },
        "id": "w7GAw49mr65N",
        "outputId": "7e0db792-9116-450c-80dd-d0738a35ffcb"
      },
      "execution_count": 50,
      "outputs": [
        {
          "output_type": "stream",
          "name": "stdout",
          "text": [
            "[*********************100%***********************]  1 of 1 completed\n",
            "[*********************100%***********************]  1 of 1 completed\n",
            "ADF test statistic: -1.50\n",
            "\t1%: -3.439\n",
            "\t5%: -2.865\n",
            "\t10%: -2.569\n",
            "p-value: 0.536\n",
            "\u001b[91mNot a Pair!\u001b[0m\n",
            "[*********************100%***********************]  1 of 1 completed\n",
            "[*********************100%***********************]  1 of 1 completed\n",
            "ADF test statistic: -1.39\n",
            "\t1%: -3.439\n",
            "\t5%: -2.865\n",
            "\t10%: -2.569\n",
            "p-value: 0.589\n",
            "\u001b[91mNot a Pair!\u001b[0m\n",
            "[*********************100%***********************]  1 of 1 completed\n",
            "[*********************100%***********************]  1 of 1 completed\n",
            "ADF test statistic: -2.47\n",
            "\t1%: -3.439\n",
            "\t5%: -2.865\n",
            "\t10%: -2.569\n",
            "p-value: 0.122\n",
            "\u001b[91mNot a Pair!\u001b[0m\n",
            "[*********************100%***********************]  1 of 1 completed\n",
            "[*********************100%***********************]  1 of 1 completed\n",
            "ADF test statistic: -1.88\n",
            "\t1%: -3.439\n",
            "\t5%: -2.865\n",
            "\t10%: -2.569\n",
            "p-value: 0.340\n",
            "\u001b[91mNot a Pair!\u001b[0m\n",
            "[*********************100%***********************]  1 of 1 completed\n",
            "[*********************100%***********************]  1 of 1 completed\n",
            "ADF test statistic: -1.91\n",
            "\t1%: -3.439\n",
            "\t5%: -2.865\n",
            "\t10%: -2.569\n",
            "p-value: 0.329\n",
            "\u001b[91mNot a Pair!\u001b[0m\n",
            "[*********************100%***********************]  1 of 1 completed\n",
            "[*********************100%***********************]  1 of 1 completed\n",
            "ADF test statistic: -1.80\n",
            "\t1%: -3.439\n",
            "\t5%: -2.865\n",
            "\t10%: -2.569\n",
            "p-value: 0.383\n",
            "\u001b[91mNot a Pair!\u001b[0m\n",
            "[*********************100%***********************]  1 of 1 completed\n",
            "[*********************100%***********************]  1 of 1 completed\n",
            "ADF test statistic: -3.67\n",
            "\t1%: -3.439\n",
            "\t5%: -2.865\n",
            "\t10%: -2.569\n",
            "p-value: 0.005\n",
            "0.41660579519146\n",
            "\u001b[92mMCD and PEP are indeed a pair!\u001b[0m\n",
            "[*********************100%***********************]  1 of 1 completed\n",
            "[*********************100%***********************]  1 of 1 completed\n",
            "ADF test statistic: -2.51\n",
            "\t1%: -3.439\n",
            "\t5%: -2.865\n",
            "\t10%: -2.569\n",
            "p-value: 0.113\n",
            "\u001b[91mNot a Pair!\u001b[0m\n",
            "[*********************100%***********************]  1 of 1 completed\n",
            "[*********************100%***********************]  1 of 1 completed\n",
            "ADF test statistic: -3.01\n",
            "\t1%: -3.439\n",
            "\t5%: -2.865\n",
            "\t10%: -2.569\n",
            "p-value: 0.034\n",
            "0.48832419107365704\n",
            "\u001b[92mMCD and HSY are indeed a pair!\u001b[0m\n",
            "[*********************100%***********************]  1 of 1 completed\n",
            "[*********************100%***********************]  1 of 1 completed\n",
            "ADF test statistic: -2.34\n",
            "\t1%: -3.439\n",
            "\t5%: -2.865\n",
            "\t10%: -2.569\n",
            "p-value: 0.160\n",
            "\u001b[91mNot a Pair!\u001b[0m\n",
            "[*********************100%***********************]  1 of 1 completed\n",
            "[*********************100%***********************]  1 of 1 completed\n",
            "ADF test statistic: -2.92\n",
            "\t1%: -3.439\n",
            "\t5%: -2.865\n",
            "\t10%: -2.569\n",
            "p-value: 0.043\n",
            "0.4621295082222968\n",
            "\u001b[92mPEP and KO are indeed a pair!\u001b[0m\n",
            "[*********************100%***********************]  1 of 1 completed\n",
            "[*********************100%***********************]  1 of 1 completed\n",
            "ADF test statistic: -3.36\n",
            "\t1%: -3.439\n",
            "\t5%: -2.865\n",
            "\t10%: -2.569\n",
            "p-value: 0.012\n",
            "0.4429654582918997\n",
            "\u001b[92mPEP and HSY are indeed a pair!\u001b[0m\n",
            "[*********************100%***********************]  1 of 1 completed\n",
            "[*********************100%***********************]  1 of 1 completed\n",
            "ADF test statistic: -2.08\n",
            "\t1%: -3.439\n",
            "\t5%: -2.865\n",
            "\t10%: -2.569\n",
            "p-value: 0.252\n",
            "\u001b[91mNot a Pair!\u001b[0m\n",
            "[*********************100%***********************]  1 of 1 completed\n",
            "[*********************100%***********************]  1 of 1 completed\n",
            "ADF test statistic: -3.07\n",
            "\t1%: -3.439\n",
            "\t5%: -2.865\n",
            "\t10%: -2.569\n",
            "p-value: 0.029\n",
            "0.45080555666768213\n",
            "\u001b[92mKO and HSY are indeed a pair!\u001b[0m\n",
            "[*********************100%***********************]  1 of 1 completed\n",
            "[*********************100%***********************]  1 of 1 completed\n",
            "ADF test statistic: -1.67\n",
            "\t1%: -3.439\n",
            "\t5%: -2.865\n",
            "\t10%: -2.569\n",
            "p-value: 0.445\n",
            "\u001b[91mNot a Pair!\u001b[0m\n",
            "[*********************100%***********************]  1 of 1 completed\n",
            "[*********************100%***********************]  1 of 1 completed\n",
            "ADF test statistic: -2.33\n",
            "\t1%: -3.439\n",
            "\t5%: -2.865\n",
            "\t10%: -2.569\n",
            "p-value: 0.162\n",
            "\u001b[91mNot a Pair!\u001b[0m\n",
            "[*********************100%***********************]  1 of 1 completed\n",
            "[*********************100%***********************]  1 of 1 completed\n",
            "ADF test statistic: -2.76\n",
            "\t1%: -3.439\n",
            "\t5%: -2.865\n",
            "\t10%: -2.569\n",
            "p-value: 0.065\n",
            "\u001b[91mNot a Pair!\u001b[0m\n",
            "[*********************100%***********************]  1 of 1 completed\n",
            "[*********************100%***********************]  1 of 1 completed\n",
            "ADF test statistic: -1.87\n",
            "\t1%: -3.439\n",
            "\t5%: -2.865\n",
            "\t10%: -2.569\n",
            "p-value: 0.348\n",
            "\u001b[91mNot a Pair!\u001b[0m\n",
            "[*********************100%***********************]  1 of 1 completed\n",
            "[*********************100%***********************]  1 of 1 completed\n",
            "ADF test statistic: -2.53\n",
            "\t1%: -3.439\n",
            "\t5%: -2.865\n",
            "\t10%: -2.569\n",
            "p-value: 0.109\n",
            "\u001b[91mNot a Pair!\u001b[0m\n",
            "[*********************100%***********************]  1 of 1 completed\n",
            "[*********************100%***********************]  1 of 1 completed\n",
            "ADF test statistic: -1.63\n",
            "\t1%: -3.439\n",
            "\t5%: -2.865\n",
            "\t10%: -2.569\n",
            "p-value: 0.466\n",
            "\u001b[91mNot a Pair!\u001b[0m\n",
            "[*********************100%***********************]  1 of 1 completed\n",
            "[*********************100%***********************]  1 of 1 completed\n",
            "ADF test statistic: -1.70\n",
            "\t1%: -3.439\n",
            "\t5%: -2.865\n",
            "\t10%: -2.569\n",
            "p-value: 0.432\n",
            "\u001b[91mNot a Pair!\u001b[0m\n",
            "[*********************100%***********************]  1 of 1 completed\n",
            "[*********************100%***********************]  1 of 1 completed\n",
            "ADF test statistic: -2.10\n",
            "\t1%: -3.439\n",
            "\t5%: -2.865\n",
            "\t10%: -2.569\n",
            "p-value: 0.243\n",
            "\u001b[91mNot a Pair!\u001b[0m\n",
            "[*********************100%***********************]  1 of 1 completed\n",
            "[*********************100%***********************]  1 of 1 completed\n",
            "ADF test statistic: -1.28\n",
            "\t1%: -3.439\n",
            "\t5%: -2.865\n",
            "\t10%: -2.569\n",
            "p-value: 0.639\n",
            "\u001b[91mNot a Pair!\u001b[0m\n",
            "[*********************100%***********************]  1 of 1 completed\n",
            "[*********************100%***********************]  1 of 1 completed\n",
            "ADF test statistic: -2.87\n",
            "\t1%: -3.439\n",
            "\t5%: -2.865\n",
            "\t10%: -2.569\n",
            "p-value: 0.049\n",
            "0.4398572305981235\n",
            "\u001b[92mAMGN and BMY are indeed a pair!\u001b[0m\n",
            "[*********************100%***********************]  1 of 1 completed\n",
            "[*********************100%***********************]  1 of 1 completed\n",
            "ADF test statistic: -1.90\n",
            "\t1%: -3.439\n",
            "\t5%: -2.865\n",
            "\t10%: -2.569\n",
            "p-value: 0.331\n",
            "\u001b[91mNot a Pair!\u001b[0m\n",
            "[*********************100%***********************]  1 of 1 completed\n",
            "[*********************100%***********************]  1 of 1 completed\n",
            "ADF test statistic: -1.26\n",
            "\t1%: -3.439\n",
            "\t5%: -2.865\n",
            "\t10%: -2.569\n",
            "p-value: 0.647\n",
            "\u001b[91mNot a Pair!\u001b[0m\n",
            "[*********************100%***********************]  1 of 1 completed\n",
            "[*********************100%***********************]  1 of 1 completed\n",
            "ADF test statistic: -2.79\n",
            "\t1%: -3.439\n",
            "\t5%: -2.865\n",
            "\t10%: -2.569\n",
            "p-value: 0.059\n",
            "\u001b[91mNot a Pair!\u001b[0m\n",
            "[*********************100%***********************]  1 of 1 completed\n",
            "[*********************100%***********************]  1 of 1 completed\n",
            "ADF test statistic: -2.40\n",
            "\t1%: -3.439\n",
            "\t5%: -2.865\n",
            "\t10%: -2.569\n",
            "p-value: 0.141\n",
            "\u001b[91mNot a Pair!\u001b[0m\n",
            "[*********************100%***********************]  1 of 1 completed\n",
            "[*********************100%***********************]  1 of 1 completed\n",
            "ADF test statistic: -1.95\n",
            "\t1%: -3.439\n",
            "\t5%: -2.865\n",
            "\t10%: -2.569\n",
            "p-value: 0.308\n",
            "\u001b[91mNot a Pair!\u001b[0m\n",
            "[*********************100%***********************]  1 of 1 completed\n",
            "[*********************100%***********************]  1 of 1 completed\n",
            "ADF test statistic: -2.43\n",
            "\t1%: -3.439\n",
            "\t5%: -2.865\n",
            "\t10%: -2.569\n",
            "p-value: 0.134\n",
            "\u001b[91mNot a Pair!\u001b[0m\n",
            "[*********************100%***********************]  1 of 1 completed\n",
            "[*********************100%***********************]  1 of 1 completed\n",
            "ADF test statistic: -2.85\n",
            "\t1%: -3.439\n",
            "\t5%: -2.865\n",
            "\t10%: -2.569\n",
            "p-value: 0.051\n",
            "\u001b[91mNot a Pair!\u001b[0m\n",
            "[*********************100%***********************]  1 of 1 completed\n",
            "[*********************100%***********************]  1 of 1 completed\n",
            "ADF test statistic: -3.93\n",
            "\t1%: -3.439\n",
            "\t5%: -2.865\n",
            "\t10%: -2.569\n",
            "p-value: 0.002\n",
            "0.4816855687764685\n",
            "\u001b[92mBP and TTE are indeed a pair!\u001b[0m\n",
            "[*********************100%***********************]  1 of 1 completed\n",
            "[*********************100%***********************]  1 of 1 completed\n",
            "ADF test statistic: -2.28\n",
            "\t1%: -3.439\n",
            "\t5%: -2.865\n",
            "\t10%: -2.569\n",
            "p-value: 0.178\n",
            "\u001b[91mNot a Pair!\u001b[0m\n",
            "[*********************100%***********************]  1 of 1 completed\n",
            "[*********************100%***********************]  1 of 1 completed\n",
            "ADF test statistic: -2.54\n",
            "\t1%: -3.439\n",
            "\t5%: -2.865\n",
            "\t10%: -2.569\n",
            "p-value: 0.105\n",
            "\u001b[91mNot a Pair!\u001b[0m\n",
            "[*********************100%***********************]  1 of 1 completed\n",
            "[*********************100%***********************]  1 of 1 completed\n",
            "ADF test statistic: -2.84\n",
            "\t1%: -3.439\n",
            "\t5%: -2.865\n",
            "\t10%: -2.569\n",
            "p-value: 0.052\n",
            "\u001b[91mNot a Pair!\u001b[0m\n",
            "[*********************100%***********************]  1 of 1 completed\n",
            "[*********************100%***********************]  1 of 1 completed\n",
            "ADF test statistic: -2.11\n",
            "\t1%: -3.439\n",
            "\t5%: -2.865\n",
            "\t10%: -2.569\n",
            "p-value: 0.241\n",
            "\u001b[91mNot a Pair!\u001b[0m\n",
            "[*********************100%***********************]  1 of 1 completed\n",
            "[*********************100%***********************]  1 of 1 completed\n",
            "ADF test statistic: -2.15\n",
            "\t1%: -3.439\n",
            "\t5%: -2.865\n",
            "\t10%: -2.569\n",
            "p-value: 0.227\n",
            "\u001b[91mNot a Pair!\u001b[0m\n",
            "[*********************100%***********************]  1 of 1 completed\n",
            "[*********************100%***********************]  1 of 1 completed\n",
            "ADF test statistic: -1.89\n",
            "\t1%: -3.439\n",
            "\t5%: -2.865\n",
            "\t10%: -2.569\n",
            "p-value: 0.335\n",
            "\u001b[91mNot a Pair!\u001b[0m\n",
            "[*********************100%***********************]  1 of 1 completed\n",
            "[*********************100%***********************]  1 of 1 completed\n",
            "ADF test statistic: -1.82\n",
            "\t1%: -3.439\n",
            "\t5%: -2.865\n",
            "\t10%: -2.569\n",
            "p-value: 0.371\n",
            "\u001b[91mNot a Pair!\u001b[0m\n",
            "[*********************100%***********************]  1 of 1 completed\n",
            "[*********************100%***********************]  1 of 1 completed\n",
            "ADF test statistic: -3.45\n",
            "\t1%: -3.439\n",
            "\t5%: -2.865\n",
            "\t10%: -2.569\n",
            "p-value: 0.009\n",
            "0.4944251650530757\n",
            "\u001b[92mXOM and PSX are indeed a pair!\u001b[0m\n",
            "[*********************100%***********************]  1 of 1 completed\n",
            "[*********************100%***********************]  1 of 1 completed\n",
            "ADF test statistic: -2.65\n",
            "\t1%: -3.439\n",
            "\t5%: -2.865\n",
            "\t10%: -2.569\n",
            "p-value: 0.083\n",
            "\u001b[91mNot a Pair!\u001b[0m\n",
            "[*********************100%***********************]  1 of 1 completed\n",
            "[*********************100%***********************]  1 of 1 completed\n",
            "ADF test statistic: -2.65\n",
            "\t1%: -3.439\n",
            "\t5%: -2.865\n",
            "\t10%: -2.569\n",
            "p-value: 0.084\n",
            "\u001b[91mNot a Pair!\u001b[0m\n",
            "[*********************100%***********************]  1 of 1 completed\n",
            "[*********************100%***********************]  1 of 1 completed\n",
            "ADF test statistic: -2.65\n",
            "\t1%: -3.439\n",
            "\t5%: -2.865\n",
            "\t10%: -2.569\n",
            "p-value: 0.082\n",
            "\u001b[91mNot a Pair!\u001b[0m\n",
            "43 potential pairs are tested, 8 actual pairs are found\n"
          ]
        }
      ]
    },
    {
      "cell_type": "markdown",
      "metadata": {
        "id": "OkjGeY8eyvss"
      },
      "source": [
        "## Prepare training / test data"
      ]
    },
    {
      "cell_type": "code",
      "execution_count": null,
      "metadata": {
        "id": "cjZ2Gxxzyvss",
        "outputId": "a49f1363-9355-4cf9-e8de-017bb7acab4b"
      },
      "outputs": [
        {
          "name": "stdout",
          "output_type": "stream",
          "text": [
            "Finishing splitting, training size: 650, testing size: 45\n"
          ]
        }
      ],
      "source": [
        "scaler = MinMaxScaler(feature_range=(0,1))\n",
        "\n",
        "def normalize_spread(data, scaler):\n",
        "    scaled_data = scaler.fit_transform(data.reshape(-1,1))\n",
        "    return scaled_data\n",
        "\n",
        "\n",
        "def train_test_split(dates, data, test_ratio=0.1, window_size=30):\n",
        "    assert len(dates) == len(data)\n",
        "    test_size = int(len(dates) * test_ratio)\n",
        "    train_size = len(dates) - test_size\n",
        "    X_train, y_train, X_test, y_test = [], [], [], []\n",
        "    for i in range(window_size, train_size):\n",
        "        X_train.append(data[i - window_size:i])\n",
        "        y_train.append(data[i])\n",
        "    for i in range(train_size + window_size, train_size + test_size):\n",
        "        X_test.append(data[i - window_size:i])\n",
        "        y_test.append(data[i])\n",
        "    print(f\"Finishing splitting, training size: {len(X_train)}, testing size: {len(X_test)}\")\n",
        "    \n",
        "    return X_train, y_train, X_test, y_test, dates[:train_size], dates[train_size:]\n",
        "\n",
        "def to_dataloader(X_train, y_train, X_test, y_test, batch_size):\n",
        "    train_set = TensorDataset(torch.Tensor(X_train), torch.Tensor(y_train))\n",
        "    train_loader = DataLoader(train_set, batch_size=batch_size)\n",
        "    test_set = TensorDataset(torch.Tensor(X_test), torch.Tensor(y_test))\n",
        "    test_loader = DataLoader(test_set, batch_size=batch_size)\n",
        "    return train_loader, test_loader\n",
        "\n",
        "scaled_spread = normalize_spread(spread, scaler)\n",
        "X_train, y_train, X_test, y_test, train_dates, test_dates = train_test_split(common_dates, scaled_spread)\n",
        "train_loader, test_loader = to_dataloader(X_train, y_train, X_test, y_test, batch_size=8)"
      ]
    },
    {
      "cell_type": "markdown",
      "metadata": {
        "id": "y2zQ0KCJyvst"
      },
      "source": [
        "## LSTM Model"
      ]
    },
    {
      "cell_type": "code",
      "execution_count": null,
      "metadata": {
        "id": "I2z4C5llyvst",
        "outputId": "e2feb41a-5d2d-4a76-d73f-b245e39ba822"
      },
      "outputs": [
        {
          "name": "stdout",
          "output_type": "stream",
          "text": [
            "Epoch [1/100], Step [40/82], Loss: 0.0071\n",
            "Epoch [1/100], Step [80/82], Loss: 0.0054\n",
            "Epoch [2/100], Step [40/82], Loss: 0.0156\n",
            "Epoch [2/100], Step [80/82], Loss: 0.0048\n",
            "Epoch [3/100], Step [40/82], Loss: 0.0146\n",
            "Epoch [3/100], Step [80/82], Loss: 0.0047\n",
            "Epoch [4/100], Step [40/82], Loss: 0.0105\n",
            "Epoch [4/100], Step [80/82], Loss: 0.0047\n",
            "Epoch [5/100], Step [40/82], Loss: 0.0043\n",
            "Epoch [5/100], Step [80/82], Loss: 0.0014\n",
            "Epoch [6/100], Step [40/82], Loss: 0.0013\n",
            "Epoch [6/100], Step [80/82], Loss: 0.0012\n",
            "Epoch [7/100], Step [40/82], Loss: 0.0006\n",
            "Epoch [7/100], Step [80/82], Loss: 0.0021\n",
            "Epoch [8/100], Step [40/82], Loss: 0.0004\n",
            "Epoch [8/100], Step [80/82], Loss: 0.0023\n",
            "Epoch [9/100], Step [40/82], Loss: 0.0004\n",
            "Epoch [9/100], Step [80/82], Loss: 0.0026\n",
            "Epoch [10/100], Step [40/82], Loss: 0.0004\n",
            "Epoch [10/100], Step [80/82], Loss: 0.0028\n",
            "Epoch [11/100], Step [40/82], Loss: 0.0004\n",
            "Epoch [11/100], Step [80/82], Loss: 0.0030\n",
            "Epoch [12/100], Step [40/82], Loss: 0.0005\n",
            "Epoch [12/100], Step [80/82], Loss: 0.0033\n",
            "Epoch [13/100], Step [40/82], Loss: 0.0005\n",
            "Epoch [13/100], Step [80/82], Loss: 0.0034\n",
            "Epoch [14/100], Step [40/82], Loss: 0.0005\n",
            "Epoch [14/100], Step [80/82], Loss: 0.0033\n",
            "Epoch [15/100], Step [40/82], Loss: 0.0005\n",
            "Epoch [15/100], Step [80/82], Loss: 0.0033\n",
            "Epoch [16/100], Step [40/82], Loss: 0.0005\n",
            "Epoch [16/100], Step [80/82], Loss: 0.0034\n",
            "Epoch [17/100], Step [40/82], Loss: 0.0005\n",
            "Epoch [17/100], Step [80/82], Loss: 0.0035\n",
            "Epoch [18/100], Step [40/82], Loss: 0.0005\n",
            "Epoch [18/100], Step [80/82], Loss: 0.0036\n",
            "Epoch [19/100], Step [40/82], Loss: 0.0005\n",
            "Epoch [19/100], Step [80/82], Loss: 0.0037\n",
            "Epoch [20/100], Step [40/82], Loss: 0.0005\n",
            "Epoch [20/100], Step [80/82], Loss: 0.0037\n",
            "Epoch [21/100], Step [40/82], Loss: 0.0005\n",
            "Epoch [21/100], Step [80/82], Loss: 0.0038\n",
            "Epoch [22/100], Step [40/82], Loss: 0.0005\n",
            "Epoch [22/100], Step [80/82], Loss: 0.0039\n",
            "Epoch [23/100], Step [40/82], Loss: 0.0005\n",
            "Epoch [23/100], Step [80/82], Loss: 0.0039\n",
            "Epoch [24/100], Step [40/82], Loss: 0.0005\n",
            "Epoch [24/100], Step [80/82], Loss: 0.0040\n",
            "Epoch [25/100], Step [40/82], Loss: 0.0005\n",
            "Epoch [25/100], Step [80/82], Loss: 0.0040\n",
            "Epoch [26/100], Step [40/82], Loss: 0.0005\n",
            "Epoch [26/100], Step [80/82], Loss: 0.0040\n",
            "Epoch [27/100], Step [40/82], Loss: 0.0005\n",
            "Epoch [27/100], Step [80/82], Loss: 0.0040\n",
            "Epoch [28/100], Step [40/82], Loss: 0.0005\n",
            "Epoch [28/100], Step [80/82], Loss: 0.0040\n",
            "Epoch [29/100], Step [40/82], Loss: 0.0005\n",
            "Epoch [29/100], Step [80/82], Loss: 0.0040\n",
            "Epoch [30/100], Step [40/82], Loss: 0.0005\n",
            "Epoch [30/100], Step [80/82], Loss: 0.0040\n",
            "Epoch [31/100], Step [40/82], Loss: 0.0005\n",
            "Epoch [31/100], Step [80/82], Loss: 0.0039\n",
            "Epoch [32/100], Step [40/82], Loss: 0.0005\n",
            "Epoch [32/100], Step [80/82], Loss: 0.0039\n",
            "Epoch [33/100], Step [40/82], Loss: 0.0005\n",
            "Epoch [33/100], Step [80/82], Loss: 0.0038\n",
            "Epoch [34/100], Step [40/82], Loss: 0.0005\n",
            "Epoch [34/100], Step [80/82], Loss: 0.0038\n",
            "Epoch [35/100], Step [40/82], Loss: 0.0005\n",
            "Epoch [35/100], Step [80/82], Loss: 0.0037\n",
            "Epoch [36/100], Step [40/82], Loss: 0.0005\n",
            "Epoch [36/100], Step [80/82], Loss: 0.0037\n",
            "Epoch [37/100], Step [40/82], Loss: 0.0005\n",
            "Epoch [37/100], Step [80/82], Loss: 0.0036\n",
            "Epoch [38/100], Step [40/82], Loss: 0.0005\n",
            "Epoch [38/100], Step [80/82], Loss: 0.0036\n",
            "Epoch [39/100], Step [40/82], Loss: 0.0005\n",
            "Epoch [39/100], Step [80/82], Loss: 0.0035\n",
            "Epoch [40/100], Step [40/82], Loss: 0.0005\n",
            "Epoch [40/100], Step [80/82], Loss: 0.0035\n",
            "Epoch [41/100], Step [40/82], Loss: 0.0005\n",
            "Epoch [41/100], Step [80/82], Loss: 0.0034\n",
            "Epoch [42/100], Step [40/82], Loss: 0.0004\n",
            "Epoch [42/100], Step [80/82], Loss: 0.0034\n",
            "Epoch [43/100], Step [40/82], Loss: 0.0004\n",
            "Epoch [43/100], Step [80/82], Loss: 0.0033\n",
            "Epoch [44/100], Step [40/82], Loss: 0.0004\n",
            "Epoch [44/100], Step [80/82], Loss: 0.0033\n",
            "Epoch [45/100], Step [40/82], Loss: 0.0004\n",
            "Epoch [45/100], Step [80/82], Loss: 0.0032\n",
            "Epoch [46/100], Step [40/82], Loss: 0.0004\n",
            "Epoch [46/100], Step [80/82], Loss: 0.0032\n",
            "Epoch [47/100], Step [40/82], Loss: 0.0004\n",
            "Epoch [47/100], Step [80/82], Loss: 0.0031\n",
            "Epoch [48/100], Step [40/82], Loss: 0.0004\n",
            "Epoch [48/100], Step [80/82], Loss: 0.0031\n",
            "Epoch [49/100], Step [40/82], Loss: 0.0004\n",
            "Epoch [49/100], Step [80/82], Loss: 0.0030\n",
            "Epoch [50/100], Step [40/82], Loss: 0.0004\n",
            "Epoch [50/100], Step [80/82], Loss: 0.0030\n",
            "Epoch [51/100], Step [40/82], Loss: 0.0004\n",
            "Epoch [51/100], Step [80/82], Loss: 0.0029\n",
            "Epoch [52/100], Step [40/82], Loss: 0.0004\n",
            "Epoch [52/100], Step [80/82], Loss: 0.0029\n",
            "Epoch [53/100], Step [40/82], Loss: 0.0004\n",
            "Epoch [53/100], Step [80/82], Loss: 0.0028\n",
            "Epoch [54/100], Step [40/82], Loss: 0.0004\n",
            "Epoch [54/100], Step [80/82], Loss: 0.0028\n",
            "Epoch [55/100], Step [40/82], Loss: 0.0004\n",
            "Epoch [55/100], Step [80/82], Loss: 0.0027\n",
            "Epoch [56/100], Step [40/82], Loss: 0.0004\n",
            "Epoch [56/100], Step [80/82], Loss: 0.0027\n",
            "Epoch [57/100], Step [40/82], Loss: 0.0004\n",
            "Epoch [57/100], Step [80/82], Loss: 0.0026\n",
            "Epoch [58/100], Step [40/82], Loss: 0.0004\n",
            "Epoch [58/100], Step [80/82], Loss: 0.0026\n",
            "Epoch [59/100], Step [40/82], Loss: 0.0004\n",
            "Epoch [59/100], Step [80/82], Loss: 0.0026\n",
            "Epoch [60/100], Step [40/82], Loss: 0.0004\n",
            "Epoch [60/100], Step [80/82], Loss: 0.0025\n",
            "Epoch [61/100], Step [40/82], Loss: 0.0004\n",
            "Epoch [61/100], Step [80/82], Loss: 0.0025\n",
            "Epoch [62/100], Step [40/82], Loss: 0.0004\n",
            "Epoch [62/100], Step [80/82], Loss: 0.0024\n",
            "Epoch [63/100], Step [40/82], Loss: 0.0004\n",
            "Epoch [63/100], Step [80/82], Loss: 0.0024\n",
            "Epoch [64/100], Step [40/82], Loss: 0.0004\n",
            "Epoch [64/100], Step [80/82], Loss: 0.0024\n",
            "Epoch [65/100], Step [40/82], Loss: 0.0004\n",
            "Epoch [65/100], Step [80/82], Loss: 0.0023\n",
            "Epoch [66/100], Step [40/82], Loss: 0.0004\n",
            "Epoch [66/100], Step [80/82], Loss: 0.0023\n",
            "Epoch [67/100], Step [40/82], Loss: 0.0004\n",
            "Epoch [67/100], Step [80/82], Loss: 0.0023\n",
            "Epoch [68/100], Step [40/82], Loss: 0.0004\n",
            "Epoch [68/100], Step [80/82], Loss: 0.0022\n",
            "Epoch [69/100], Step [40/82], Loss: 0.0004\n",
            "Epoch [69/100], Step [80/82], Loss: 0.0022\n",
            "Epoch [70/100], Step [40/82], Loss: 0.0004\n",
            "Epoch [70/100], Step [80/82], Loss: 0.0022\n",
            "Epoch [71/100], Step [40/82], Loss: 0.0004\n",
            "Epoch [71/100], Step [80/82], Loss: 0.0021\n",
            "Epoch [72/100], Step [40/82], Loss: 0.0004\n",
            "Epoch [72/100], Step [80/82], Loss: 0.0021\n",
            "Epoch [73/100], Step [40/82], Loss: 0.0004\n",
            "Epoch [73/100], Step [80/82], Loss: 0.0021\n",
            "Epoch [74/100], Step [40/82], Loss: 0.0004\n",
            "Epoch [74/100], Step [80/82], Loss: 0.0021\n",
            "Epoch [75/100], Step [40/82], Loss: 0.0004\n",
            "Epoch [75/100], Step [80/82], Loss: 0.0020\n",
            "Epoch [76/100], Step [40/82], Loss: 0.0004\n",
            "Epoch [76/100], Step [80/82], Loss: 0.0020\n",
            "Epoch [77/100], Step [40/82], Loss: 0.0004\n",
            "Epoch [77/100], Step [80/82], Loss: 0.0020\n",
            "Epoch [78/100], Step [40/82], Loss: 0.0004\n",
            "Epoch [78/100], Step [80/82], Loss: 0.0020\n",
            "Epoch [79/100], Step [40/82], Loss: 0.0004\n",
            "Epoch [79/100], Step [80/82], Loss: 0.0019\n",
            "Epoch [80/100], Step [40/82], Loss: 0.0003\n",
            "Epoch [80/100], Step [80/82], Loss: 0.0019\n",
            "Epoch [81/100], Step [40/82], Loss: 0.0003\n",
            "Epoch [81/100], Step [80/82], Loss: 0.0019\n",
            "Epoch [82/100], Step [40/82], Loss: 0.0003\n",
            "Epoch [82/100], Step [80/82], Loss: 0.0019\n",
            "Epoch [83/100], Step [40/82], Loss: 0.0003\n",
            "Epoch [83/100], Step [80/82], Loss: 0.0018\n",
            "Epoch [84/100], Step [40/82], Loss: 0.0003\n",
            "Epoch [84/100], Step [80/82], Loss: 0.0018\n",
            "Epoch [85/100], Step [40/82], Loss: 0.0003\n",
            "Epoch [85/100], Step [80/82], Loss: 0.0018\n",
            "Epoch [86/100], Step [40/82], Loss: 0.0003\n",
            "Epoch [86/100], Step [80/82], Loss: 0.0018\n",
            "Epoch [87/100], Step [40/82], Loss: 0.0003\n",
            "Epoch [87/100], Step [80/82], Loss: 0.0018\n",
            "Epoch [88/100], Step [40/82], Loss: 0.0003\n",
            "Epoch [88/100], Step [80/82], Loss: 0.0017\n",
            "Epoch [89/100], Step [40/82], Loss: 0.0003\n",
            "Epoch [89/100], Step [80/82], Loss: 0.0017\n",
            "Epoch [90/100], Step [40/82], Loss: 0.0003\n",
            "Epoch [90/100], Step [80/82], Loss: 0.0017\n",
            "Epoch [91/100], Step [40/82], Loss: 0.0003\n",
            "Epoch [91/100], Step [80/82], Loss: 0.0017\n",
            "Epoch [92/100], Step [40/82], Loss: 0.0003\n",
            "Epoch [92/100], Step [80/82], Loss: 0.0017\n",
            "Epoch [93/100], Step [40/82], Loss: 0.0003\n",
            "Epoch [93/100], Step [80/82], Loss: 0.0016\n",
            "Epoch [94/100], Step [40/82], Loss: 0.0003\n",
            "Epoch [94/100], Step [80/82], Loss: 0.0016\n",
            "Epoch [95/100], Step [40/82], Loss: 0.0003\n",
            "Epoch [95/100], Step [80/82], Loss: 0.0016\n",
            "Epoch [96/100], Step [40/82], Loss: 0.0003\n"
          ]
        },
        {
          "name": "stdout",
          "output_type": "stream",
          "text": [
            "Epoch [96/100], Step [80/82], Loss: 0.0016\n",
            "Epoch [97/100], Step [40/82], Loss: 0.0003\n",
            "Epoch [97/100], Step [80/82], Loss: 0.0015\n",
            "Epoch [98/100], Step [40/82], Loss: 0.0003\n",
            "Epoch [98/100], Step [80/82], Loss: 0.0015\n",
            "Epoch [99/100], Step [40/82], Loss: 0.0003\n",
            "Epoch [99/100], Step [80/82], Loss: 0.0015\n",
            "Epoch [100/100], Step [40/82], Loss: 0.0003\n",
            "Epoch [100/100], Step [80/82], Loss: 0.0015\n"
          ]
        }
      ],
      "source": [
        "# Define the LSTM model\n",
        "class LSTM(nn.Module):\n",
        "    def __init__(self, input_dim, hidden_dim, output_dim, num_layers):\n",
        "        super(LSTM, self).__init__()\n",
        "        self.hidden_dim = hidden_dim\n",
        "        self.num_layers = num_layers\n",
        "        self.lstm = nn.LSTM(input_dim, hidden_dim, num_layers, batch_first=True)\n",
        "        self.fc = nn.Linear(hidden_dim, output_dim)\n",
        "\n",
        "    def forward(self, x):\n",
        "        h0 = torch.zeros(self.num_layers, x.size(0), self.hidden_dim).to(x.device)\n",
        "        c0 = torch.zeros(self.num_layers, x.size(0), self.hidden_dim).to(x.device)\n",
        "        out, _ = self.lstm(x, (h0, c0))\n",
        "        out = self.fc(out[:, -1, :])\n",
        "        return out\n",
        "\n",
        "\n",
        "# Define the training function\n",
        "def train(model, train_loader, num_epochs, learning_rate):\n",
        "    criterion = nn.MSELoss()\n",
        "    optimizer = optim.Adam(model.parameters(), lr=learning_rate)\n",
        "    model.train()\n",
        "    for epoch in range(num_epochs):\n",
        "        for i, (inputs, labels) in enumerate(train_loader):\n",
        "            inputs, labels = inputs.to(device), labels.to(device)\n",
        "            optimizer.zero_grad()\n",
        "            outputs = model(inputs)\n",
        "            loss = criterion(outputs, labels)\n",
        "            loss.backward()\n",
        "            optimizer.step()\n",
        "            if (i+1) % 40 == 0:\n",
        "                print('Epoch [{}/{}], Step [{}/{}], Loss: {:.4f}'\n",
        "                      .format(epoch+1, num_epochs, i+1, len(train_loader), loss.item()))\n",
        "\n",
        "# Train the model\n",
        "input_dim = 1\n",
        "hidden_dim = 10\n",
        "output_dim = 1\n",
        "num_layers = 2\n",
        "learning_rate = 0.001\n",
        "num_epochs = 100\n",
        "device = torch.device('cuda' if torch.cuda.is_available() else 'cpu')\n",
        "model = LSTM(input_dim, hidden_dim, output_dim, num_layers).to(device)\n",
        "train(model, train_loader, num_epochs, learning_rate)"
      ]
    },
    {
      "cell_type": "code",
      "execution_count": null,
      "metadata": {
        "id": "-FKPb5qlyvsu",
        "outputId": "bf1de5e4-707a-4654-9932-e07cb46d50aa"
      },
      "outputs": [
        {
          "name": "stdout",
          "output_type": "stream",
          "text": [
            "Total MSE loss: 7.680168346269056e-05\n"
          ]
        },
        {
          "data": {
            "image/png": "[encoded data removed]",
            "text/plain": [
              "<Figure size 432x288 with 1 Axes>"
            ]
          },
          "metadata": {
            "needs_background": "light"
          },
          "output_type": "display_data"
        }
      ],
      "source": [
        "def test(model, test_loader):\n",
        "    predictions = []\n",
        "    batch_labels = []\n",
        "    model.eval()\n",
        "    with torch.no_grad():\n",
        "        for inputs, labels in test_loader:\n",
        "            inputs = inputs.to(device)\n",
        "            outputs = model(inputs)\n",
        "            predictions.append(outputs.cpu().numpy())\n",
        "            batch_labels.append(labels.numpy())\n",
        "    return predictions, batch_labels\n",
        "\n",
        "predictions, labels = test(model, test_loader)\n",
        "predictions = scaler.inverse_transform(np.concatenate(predictions)).flatten()\n",
        "labels = scaler.inverse_transform(np.concatenate(labels)).flatten()\n",
        "# # # Visualize the results\n",
        "\n",
        "plt.plot(predictions, label='predicted')\n",
        "plt.plot(labels, label='actual')\n",
        "print(f'Total MSE loss: {mean_squared_error(predictions, labels)}')\n",
        "plt.legend()\n",
        "plt.show()"
      ]
    },
    {
      "cell_type": "code",
      "execution_count": null,
      "metadata": {
        "id": "SfrT4feDyvsv"
      },
      "outputs": [],
      "source": []
    }
  ],
  "metadata": {
    "kernelspec": {
      "display_name": "Python 3",
      "language": "python",
      "name": "python3"
    },
    "language_info": {
      "codemirror_mode": {
        "name": "ipython",
        "version": 3
      },
      "file_extension": ".py",
      "mimetype": "text/x-python",
      "name": "python",
      "nbconvert_exporter": "python",
      "pygments_lexer": "ipython3",
      "version": "3.8.16"
    },
    "colab": {
      "provenance": []
    }
  },
  "nbformat": 4,
  "nbformat_minor": 0
}