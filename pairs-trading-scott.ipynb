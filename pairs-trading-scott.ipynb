{
 "cells": [
  {
   "cell_type": "code",
   "execution_count": 1,
   "metadata": {},
   "outputs": [],
   "source": [
    "import math\n",
    "import yfinance as yf\n",
    "import numpy as np\n",
    "import pandas as pd\n",
    "import torch\n",
    "import torch.nn as nn\n",
    "import torch.optim as optim\n",
    "from torch.utils.data import DataLoader, Dataset, TensorDataset\n",
    "import tqdm\n",
    "from datetime import datetime\n",
    "import matplotlib.pyplot as plt\n",
    "from sklearn.linear_model import LinearRegression\n",
    "from sklearn.preprocessing import MinMaxScaler\n",
    "from sklearn.metrics import mean_squared_error\n",
    "%matplotlib inline"
   ]
  },
  {
   "cell_type": "code",
   "execution_count": 2,
   "metadata": {},
   "outputs": [
    {
     "name": "stdout",
     "output_type": "stream",
     "text": [
      "[*********************100%***********************]  1 of 1 completed\n",
      "[*********************100%***********************]  1 of 1 completed\n",
      "                  Open        High         Low       Close   Adj Close   \n",
      "Date                                                                     \n",
      "2020-05-06   44.930000   45.270000   43.900002   43.990002   37.156528  \\\n",
      "2020-05-07   44.959999   45.270000   43.970001   44.240002   37.367687   \n",
      "2020-05-08   45.310001   46.220001   44.980000   46.180000   39.006321   \n",
      "2020-05-11   46.110001   46.200001   45.509998   45.740002   38.634674   \n",
      "2020-05-12   45.419998   45.669998   44.119999   44.119999   37.988892   \n",
      "...                ...         ...         ...         ...         ...   \n",
      "2023-04-28  117.250000  119.919998  116.830002  118.339996  118.339996   \n",
      "2023-05-01  115.989998  117.300003  114.449997  114.669998  114.669998   \n",
      "2023-05-02  113.940002  113.940002  109.290001  110.099998  110.099998   \n",
      "2023-05-03  109.080002  109.809998  107.760002  107.930000  107.930000   \n",
      "2023-05-04  107.900002  108.750000  105.910004  106.040001  106.040001   \n",
      "\n",
      "              Volume  \n",
      "Date                  \n",
      "2020-05-06  22659000  \n",
      "2020-05-07  22160300  \n",
      "2020-05-08  19977400  \n",
      "2020-05-11  22258000  \n",
      "2020-05-12  25439100  \n",
      "...              ...  \n",
      "2023-04-28  24374000  \n",
      "2023-05-01  17355000  \n",
      "2023-05-02  24324100  \n",
      "2023-05-03  16212300  \n",
      "2023-05-04  17177200  \n",
      "\n",
      "[755 rows x 6 columns]\n"
     ]
    }
   ],
   "source": [
    "sd = datetime(2020, 5, 6) \n",
    "ed = datetime(2023, 5, 5)\n",
    "stock1 = yf.download(tickers='XOM', start=sd, end=ed, interval=\"1d\") # TODO: use real pairs found by Wenqi\n",
    "stock2 = yf.download(tickers='CVX', start=sd, end=ed, interval=\"1d\")\n",
    "print(stock1)"
   ]
  },
  {
   "cell_type": "code",
   "execution_count": 3,
   "metadata": {},
   "outputs": [
    {
     "data": {
      "text/plain": [
       "(755, 755)"
      ]
     },
     "execution_count": 3,
     "metadata": {},
     "output_type": "execute_result"
    }
   ],
   "source": [
    "# filter common dates of two index\n",
    "def get_common_dates(stock1, stock2):\n",
    "    return list(set(stock1.index.tolist()).intersection(set(stock2.index.tolist())))\n",
    "\n",
    "common_dates = sorted(get_common_dates(stock1, stock2))\n",
    "stock1_common, stock2_common = stock1.loc[common_dates], stock2.loc[common_dates]\n",
    "len(stock1_common), len(stock2_common)"
   ]
  },
  {
   "cell_type": "markdown",
   "metadata": {},
   "source": [
    "## Fitting mean reverting parameters"
   ]
  },
  {
   "cell_type": "code",
   "execution_count": 4,
   "metadata": {},
   "outputs": [
    {
     "name": "stdout",
     "output_type": "stream",
     "text": [
      "Linear regression: log(stock2) = 0.7625740938528744 * log(stock1) + 1.5768358936585747\n"
     ]
    }
   ],
   "source": [
    "# model log(stock2) = a * log(stock1) + b\n",
    "price1, price2 = np.array(stock1_common['Adj Close']), np.array(stock2_common['Adj Close'])\n",
    "logprice1, logprice2 = np.log(price1), np.log(price2)\n",
    "lin_reg = LinearRegression(fit_intercept=True)\n",
    "lin_reg.fit(logprice1.reshape(-1, 1), logprice2)\n",
    "beta, alpha = lin_reg.coef_[0], lin_reg.intercept_\n",
    "print(f\"Linear regression: log(stock2) = {beta} * log(stock1) + {alpha}\")"
   ]
  },
  {
   "cell_type": "code",
   "execution_count": 5,
   "metadata": {},
   "outputs": [
    {
     "data": {
      "text/plain": [
       "[<matplotlib.lines.Line2D at 0x7f9c6dedbf10>]"
      ]
     },
     "execution_count": 5,
     "metadata": {},
     "output_type": "execute_result"
    },
    {
     "data": {
      "image/png": "[encoded data removed]",
      "text/plain": [
       "<Figure size 432x288 with 1 Axes>"
      ]
     },
     "metadata": {
      "needs_background": "light"
     },
     "output_type": "display_data"
    }
   ],
   "source": [
    "spread = logprice2 - beta * logprice1 - alpha\n",
    "plt.plot(common_dates, spread)"
   ]
  },
  {
   "cell_type": "markdown",
   "metadata": {},
   "source": [
    "## Prepare training / test data"
   ]
  },
  {
   "cell_type": "code",
   "execution_count": 6,
   "metadata": {},
   "outputs": [
    {
     "name": "stdout",
     "output_type": "stream",
     "text": [
      "Finishing splitting, training size: 650, testing size: 75\n"
     ]
    }
   ],
   "source": [
    "scaler = MinMaxScaler(feature_range=(0,1))\n",
    "\n",
    "def normalize_spread(data, scaler):\n",
    "    scaled_data = scaler.fit_transform(data.reshape(-1,1))\n",
    "    return scaled_data\n",
    "\n",
    "\n",
    "def train_test_split(dates, data, test_ratio=0.1, window_size=30):\n",
    "    assert len(dates) == len(data)\n",
    "    test_size = int(len(dates) * test_ratio)\n",
    "    train_size = len(dates) - test_size\n",
    "    X_train, y_train, X_test, y_test = [], [], [], []\n",
    "    for i in range(window_size, train_size):\n",
    "        X_train.append(data[i - window_size:i])\n",
    "        y_train.append(data[i])\n",
    "    for i in range(train_size, train_size + test_size):\n",
    "        X_test.append(data[i - window_size:i])\n",
    "        y_test.append(data[i])\n",
    "    print(f\"Finishing splitting, training size: {len(X_train)}, testing size: {len(X_test)}\")\n",
    "    \n",
    "    return X_train, y_train, X_test, y_test, dates[:train_size], dates[train_size:]\n",
    "\n",
    "def to_dataloader(X_train, y_train, X_test, y_test, batch_size):\n",
    "    train_set = TensorDataset(torch.Tensor(X_train), torch.Tensor(y_train))\n",
    "    train_loader = DataLoader(train_set, batch_size=batch_size)\n",
    "    test_set = TensorDataset(torch.Tensor(X_test), torch.Tensor(y_test))\n",
    "    test_loader = DataLoader(test_set, batch_size=batch_size)\n",
    "    return train_loader, test_loader\n",
    "\n",
    "scaled_spread = normalize_spread(spread, scaler)\n",
    "X_train, y_train, X_test, y_test, train_dates, test_dates = train_test_split(common_dates, scaled_spread)\n",
    "train_loader, test_loader = to_dataloader(X_train, y_train, X_test, y_test, batch_size=8)"
   ]
  },
  {
   "cell_type": "markdown",
   "metadata": {},
   "source": [
    "## LSTM Model"
   ]
  },
  {
   "cell_type": "code",
   "execution_count": 7,
   "metadata": {},
   "outputs": [
    {
     "name": "stdout",
     "output_type": "stream",
     "text": [
      "Epoch [1/30], Step [40/82], Loss: 0.0252\n",
      "Epoch [1/30], Step [80/82], Loss: 0.0045\n",
      "Epoch [2/30], Step [40/82], Loss: 0.0564\n",
      "Epoch [2/30], Step [80/82], Loss: 0.0022\n",
      "Epoch [3/30], Step [40/82], Loss: 0.0595\n",
      "Epoch [3/30], Step [80/82], Loss: 0.0018\n",
      "Epoch [4/30], Step [40/82], Loss: 0.0595\n",
      "Epoch [4/30], Step [80/82], Loss: 0.0013\n",
      "Epoch [5/30], Step [40/82], Loss: 0.0553\n",
      "Epoch [5/30], Step [80/82], Loss: 0.0005\n",
      "Epoch [6/30], Step [40/82], Loss: 0.0407\n",
      "Epoch [6/30], Step [80/82], Loss: 0.0006\n",
      "Epoch [7/30], Step [40/82], Loss: 0.0218\n",
      "Epoch [7/30], Step [80/82], Loss: 0.0017\n",
      "Epoch [8/30], Step [40/82], Loss: 0.0121\n",
      "Epoch [8/30], Step [80/82], Loss: 0.0032\n",
      "Epoch [9/30], Step [40/82], Loss: 0.0059\n",
      "Epoch [9/30], Step [80/82], Loss: 0.0038\n",
      "Epoch [10/30], Step [40/82], Loss: 0.0025\n",
      "Epoch [10/30], Step [80/82], Loss: 0.0049\n",
      "Epoch [11/30], Step [40/82], Loss: 0.0017\n",
      "Epoch [11/30], Step [80/82], Loss: 0.0045\n",
      "Epoch [12/30], Step [40/82], Loss: 0.0012\n",
      "Epoch [12/30], Step [80/82], Loss: 0.0039\n",
      "Epoch [13/30], Step [40/82], Loss: 0.0009\n",
      "Epoch [13/30], Step [80/82], Loss: 0.0036\n",
      "Epoch [14/30], Step [40/82], Loss: 0.0007\n",
      "Epoch [14/30], Step [80/82], Loss: 0.0034\n",
      "Epoch [15/30], Step [40/82], Loss: 0.0006\n",
      "Epoch [15/30], Step [80/82], Loss: 0.0032\n",
      "Epoch [16/30], Step [40/82], Loss: 0.0005\n",
      "Epoch [16/30], Step [80/82], Loss: 0.0031\n",
      "Epoch [17/30], Step [40/82], Loss: 0.0005\n",
      "Epoch [17/30], Step [80/82], Loss: 0.0030\n",
      "Epoch [18/30], Step [40/82], Loss: 0.0005\n",
      "Epoch [18/30], Step [80/82], Loss: 0.0029\n",
      "Epoch [19/30], Step [40/82], Loss: 0.0005\n",
      "Epoch [19/30], Step [80/82], Loss: 0.0028\n",
      "Epoch [20/30], Step [40/82], Loss: 0.0005\n",
      "Epoch [20/30], Step [80/82], Loss: 0.0027\n",
      "Epoch [21/30], Step [40/82], Loss: 0.0005\n",
      "Epoch [21/30], Step [80/82], Loss: 0.0026\n",
      "Epoch [22/30], Step [40/82], Loss: 0.0005\n",
      "Epoch [22/30], Step [80/82], Loss: 0.0026\n",
      "Epoch [23/30], Step [40/82], Loss: 0.0005\n",
      "Epoch [23/30], Step [80/82], Loss: 0.0025\n",
      "Epoch [24/30], Step [40/82], Loss: 0.0005\n",
      "Epoch [24/30], Step [80/82], Loss: 0.0024\n",
      "Epoch [25/30], Step [40/82], Loss: 0.0005\n",
      "Epoch [25/30], Step [80/82], Loss: 0.0023\n",
      "Epoch [26/30], Step [40/82], Loss: 0.0005\n",
      "Epoch [26/30], Step [80/82], Loss: 0.0023\n",
      "Epoch [27/30], Step [40/82], Loss: 0.0005\n",
      "Epoch [27/30], Step [80/82], Loss: 0.0022\n",
      "Epoch [28/30], Step [40/82], Loss: 0.0005\n",
      "Epoch [28/30], Step [80/82], Loss: 0.0021\n",
      "Epoch [29/30], Step [40/82], Loss: 0.0005\n",
      "Epoch [29/30], Step [80/82], Loss: 0.0021\n",
      "Epoch [30/30], Step [40/82], Loss: 0.0005\n",
      "Epoch [30/30], Step [80/82], Loss: 0.0020\n"
     ]
    }
   ],
   "source": [
    "# Define the LSTM model\n",
    "class LSTM(nn.Module):\n",
    "    def __init__(self, input_dim, hidden_dim, output_dim, num_layers):\n",
    "        super(LSTM, self).__init__()\n",
    "        self.hidden_dim = hidden_dim\n",
    "        self.num_layers = num_layers\n",
    "        self.lstm = nn.LSTM(input_dim, hidden_dim, num_layers, batch_first=True)\n",
    "        self.fc = nn.Linear(hidden_dim, output_dim)\n",
    "\n",
    "    def forward(self, x):\n",
    "        h0 = torch.zeros(self.num_layers, x.size(0), self.hidden_dim).to(x.device)\n",
    "        c0 = torch.zeros(self.num_layers, x.size(0), self.hidden_dim).to(x.device)\n",
    "        out, _ = self.lstm(x, (h0, c0))\n",
    "        out = self.fc(out[:, -1, :])\n",
    "        return out\n",
    "\n",
    "\n",
    "# Define the training function\n",
    "def train(model, train_loader, num_epochs, learning_rate):\n",
    "    criterion = nn.MSELoss()\n",
    "    optimizer = optim.Adam(model.parameters(), lr=learning_rate)\n",
    "    model.train()\n",
    "    for epoch in range(num_epochs):\n",
    "        for i, (inputs, labels) in enumerate(train_loader):\n",
    "            inputs, labels = inputs.to(device), labels.to(device)\n",
    "            optimizer.zero_grad()\n",
    "            outputs = model(inputs)\n",
    "            loss = criterion(outputs, labels)\n",
    "            loss.backward()\n",
    "            optimizer.step()\n",
    "            if (i+1) % 40 == 0:\n",
    "                print('Epoch [{}/{}], Step [{}/{}], Loss: {:.4f}'\n",
    "                      .format(epoch+1, num_epochs, i+1, len(train_loader), loss.item()))\n",
    "\n",
    "# Train the model\n",
    "input_dim = 1\n",
    "hidden_dim = 10\n",
    "output_dim = 1\n",
    "num_layers = 2\n",
    "learning_rate = 0.001\n",
    "num_epochs = 30\n",
    "device = torch.device('cuda' if torch.cuda.is_available() else 'cpu')\n",
    "model = LSTM(input_dim, hidden_dim, output_dim, num_layers).to(device)\n",
    "train(model, train_loader, num_epochs, learning_rate)"
   ]
  },
  {
   "cell_type": "code",
   "execution_count": 100,
   "metadata": {},
   "outputs": [
    {
     "name": "stdout",
     "output_type": "stream",
     "text": [
      "Total MSE loss: 7.680168346269056e-05\n"
     ]
    },
    {
     "data": {
      "image/png": "[encoded data removed]",
      "text/plain": [
       "<Figure size 432x288 with 1 Axes>"
      ]
     },
     "metadata": {
      "needs_background": "light"
     },
     "output_type": "display_data"
    }
   ],
   "source": [
    "def test(model, test_loader):\n",
    "    predictions = []\n",
    "    batch_labels = []\n",
    "    model.eval()\n",
    "    with torch.no_grad():\n",
    "        for inputs, labels in test_loader:\n",
    "            inputs = inputs.to(device)\n",
    "            outputs = model(inputs)\n",
    "            predictions.append(outputs.cpu().numpy())\n",
    "            batch_labels.append(labels.numpy())\n",
    "    return predictions, batch_labels\n",
    "\n",
    "predictions, labels = test(model, test_loader)\n",
    "predictions = scaler.inverse_transform(np.concatenate(predictions)).flatten()\n",
    "labels = scaler.inverse_transform(np.concatenate(labels)).flatten()\n",
    "# # # Visualize the results\n",
    "\n",
    "plt.plot(predictions, label='predicted')\n",
    "plt.plot(labels, label='actual')\n",
    "print(f'Total MSE loss: {mean_squared_error(predictions, labels)}')\n",
    "plt.legend()\n",
    "plt.show()"
   ]
  },
  {
   "cell_type": "markdown",
   "metadata": {},
   "source": [
    "## Trading Model"
   ]
  },
  {
   "cell_type": "code",
   "execution_count": null,
   "metadata": {},
   "outputs": [],
   "source": []
  }
 ],
 "metadata": {
  "kernelspec": {
   "display_name": "Python 3",
   "language": "python",
   "name": "python3"
  },
  "language_info": {
   "codemirror_mode": {
    "name": "ipython",
    "version": 3
   },
   "file_extension": ".py",
   "mimetype": "text/x-python",
   "name": "python",
   "nbconvert_exporter": "python",
   "pygments_lexer": "ipython3",
   "version": "3.8.16"
  }
 },
 "nbformat": 4,
 "nbformat_minor": 4
}
